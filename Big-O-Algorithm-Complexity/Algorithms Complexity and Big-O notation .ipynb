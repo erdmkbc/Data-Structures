{
 "cells": [
  {
   "cell_type": "markdown",
   "id": "a4a8c6ad",
   "metadata": {},
   "source": [
    "### Introduction Big-O and Algorithm Complexity\n",
    "\n",
    "#### What is the algorithms ? \n",
    "- Algorithm makes sense by dividing a problem into methods.\n",
    "\n",
    "#### What is the Code Comlexity ?\n",
    "- The processes of comparing which of the two algorithms that perform the same function are more optimized and faster are called\n",
    "   - To give an example, we can use two different algorithms for the sums of numbers from one to the number we have determined. Let's examine the examples below for them."
   ]
  },
  {
   "cell_type": "code",
   "execution_count": 7,
   "id": "99f2fada",
   "metadata": {},
   "outputs": [],
   "source": [
    "def sum_number(n):\n",
    "    \n",
    "    total = 0 \n",
    "    \n",
    "    for i in range(1,n+1):\n",
    "        \n",
    "        total = total + i\n",
    "    \n",
    "    return total "
   ]
  },
  {
   "cell_type": "code",
   "execution_count": 8,
   "id": "1fbe9b9e",
   "metadata": {},
   "outputs": [
    {
     "data": {
      "text/plain": [
       "15"
      ]
     },
     "execution_count": 8,
     "metadata": {},
     "output_type": "execute_result"
    }
   ],
   "source": [
    "sum_number(5)"
   ]
  },
  {
   "cell_type": "code",
   "execution_count": 10,
   "id": "3ead3ed1",
   "metadata": {},
   "outputs": [],
   "source": [
    "def sum_number_2(n):\n",
    "    return(n*(n+1)/2)"
   ]
  },
  {
   "cell_type": "code",
   "execution_count": 11,
   "id": "8029adda",
   "metadata": {},
   "outputs": [
    {
     "data": {
      "text/plain": [
       "15.0"
      ]
     },
     "execution_count": 11,
     "metadata": {},
     "output_type": "execute_result"
    }
   ],
   "source": [
    "sum_number_2(5)"
   ]
  },
  {
   "cell_type": "markdown",
   "id": "665d9df2",
   "metadata": {},
   "source": [
    "* While both algorithms perform the same function, with which method can we choose the fastest one among these algorithms?\n",
    "\n",
    "* In this process, looking at the runtime processes of the two algorithms does not give logical results because it is related to the CPU that the code is running.\n",
    "\n",
    "* So what are we going to use? We need to use Big-O notation, so what is this Big-O Notation, let's look at it together.\n"
   ]
  },
  {
   "cell_type": "markdown",
   "id": "3e97577c",
   "metadata": {},
   "source": [
    "### What is the Big-O Notation \n",
    "- Big-O notation is a measurement metric based on how much the input function grows(You can check Big-O notation graph).\n",
    "\n",
    "##### There are three types Notations\n",
    "\n",
    "- Theta: The optimal temporal equivalent of the algorithm.\n",
    "- Omega: The temporal equivalent of the algorithm in the mean condition.\n",
    "- Big-O: The temporal equivalent of the algorithm in the worst process. (Criteria taken step)"
   ]
  },
  {
   "cell_type": "markdown",
   "id": "60e94202",
   "metadata": {},
   "source": [
    "### Big-O Notation örnekleri"
   ]
  },
  {
   "cell_type": "markdown",
   "id": "db9552af",
   "metadata": {},
   "source": [
    "#### O(1) Constant input"
   ]
  },
  {
   "cell_type": "code",
   "execution_count": 18,
   "id": "9bac7cd0",
   "metadata": {},
   "outputs": [],
   "source": [
    "def constant(lists):\n",
    "    print(lists[0])"
   ]
  },
  {
   "cell_type": "code",
   "execution_count": 19,
   "id": "241db425",
   "metadata": {},
   "outputs": [],
   "source": [
    "lists = [1,2,3,4,5]"
   ]
  },
  {
   "cell_type": "code",
   "execution_count": 20,
   "id": "6c677170",
   "metadata": {},
   "outputs": [
    {
     "name": "stdout",
     "output_type": "stream",
     "text": [
      "1\n"
     ]
    }
   ],
   "source": [
    "constant(lists)"
   ]
  },
  {
   "cell_type": "markdown",
   "id": "bc35f0e5",
   "metadata": {},
   "source": [
    "* As you can see, Constant inputs cover individual operations that are not dependent on input size, which are in the safest place on the Big-O graph."
   ]
  },
  {
   "cell_type": "markdown",
   "id": "e529117d",
   "metadata": {},
   "source": [
    "#### O(2) Linear input "
   ]
  },
  {
   "cell_type": "code",
   "execution_count": 30,
   "id": "85fb6f74",
   "metadata": {},
   "outputs": [],
   "source": [
    "def linear(lists):\n",
    "    for i in lists:\n",
    "        print(i)"
   ]
  },
  {
   "cell_type": "code",
   "execution_count": 31,
   "id": "44845f1b",
   "metadata": {},
   "outputs": [
    {
     "name": "stdout",
     "output_type": "stream",
     "text": [
      "1\n",
      "2\n",
      "3\n",
      "4\n",
      "5\n"
     ]
    }
   ],
   "source": [
    "linear(lists)"
   ]
  },
  {
   "cell_type": "markdown",
   "id": "ee2b0465",
   "metadata": {},
   "source": [
    "* Linear inputs cover one-dimensional operations that are directly proportional to the value of the incoming input and are also safe zone algorithms."
   ]
  },
  {
   "cell_type": "markdown",
   "id": "5394cd2b",
   "metadata": {},
   "source": [
    "#### O(3) Cubic input"
   ]
  },
  {
   "cell_type": "code",
   "execution_count": 32,
   "id": "b0989175",
   "metadata": {},
   "outputs": [],
   "source": [
    "def cubic(lists):\n",
    "    for i in lists:\n",
    "        for j in lists:\n",
    "            for k in lists:\n",
    "                print(i,j,k)"
   ]
  },
  {
   "cell_type": "code",
   "execution_count": 33,
   "id": "0825bb8a",
   "metadata": {},
   "outputs": [
    {
     "name": "stdout",
     "output_type": "stream",
     "text": [
      "1 1 1\n",
      "1 1 2\n",
      "1 1 3\n",
      "1 1 4\n",
      "1 1 5\n",
      "1 2 1\n",
      "1 2 2\n",
      "1 2 3\n",
      "1 2 4\n",
      "1 2 5\n",
      "1 3 1\n",
      "1 3 2\n",
      "1 3 3\n",
      "1 3 4\n",
      "1 3 5\n",
      "1 4 1\n",
      "1 4 2\n",
      "1 4 3\n",
      "1 4 4\n",
      "1 4 5\n",
      "1 5 1\n",
      "1 5 2\n",
      "1 5 3\n",
      "1 5 4\n",
      "1 5 5\n",
      "2 1 1\n",
      "2 1 2\n",
      "2 1 3\n",
      "2 1 4\n",
      "2 1 5\n",
      "2 2 1\n",
      "2 2 2\n",
      "2 2 3\n",
      "2 2 4\n",
      "2 2 5\n",
      "2 3 1\n",
      "2 3 2\n",
      "2 3 3\n",
      "2 3 4\n",
      "2 3 5\n",
      "2 4 1\n",
      "2 4 2\n",
      "2 4 3\n",
      "2 4 4\n",
      "2 4 5\n",
      "2 5 1\n",
      "2 5 2\n",
      "2 5 3\n",
      "2 5 4\n",
      "2 5 5\n",
      "3 1 1\n",
      "3 1 2\n",
      "3 1 3\n",
      "3 1 4\n",
      "3 1 5\n",
      "3 2 1\n",
      "3 2 2\n",
      "3 2 3\n",
      "3 2 4\n",
      "3 2 5\n",
      "3 3 1\n",
      "3 3 2\n",
      "3 3 3\n",
      "3 3 4\n",
      "3 3 5\n",
      "3 4 1\n",
      "3 4 2\n",
      "3 4 3\n",
      "3 4 4\n",
      "3 4 5\n",
      "3 5 1\n",
      "3 5 2\n",
      "3 5 3\n",
      "3 5 4\n",
      "3 5 5\n",
      "4 1 1\n",
      "4 1 2\n",
      "4 1 3\n",
      "4 1 4\n",
      "4 1 5\n",
      "4 2 1\n",
      "4 2 2\n",
      "4 2 3\n",
      "4 2 4\n",
      "4 2 5\n",
      "4 3 1\n",
      "4 3 2\n",
      "4 3 3\n",
      "4 3 4\n",
      "4 3 5\n",
      "4 4 1\n",
      "4 4 2\n",
      "4 4 3\n",
      "4 4 4\n",
      "4 4 5\n",
      "4 5 1\n",
      "4 5 2\n",
      "4 5 3\n",
      "4 5 4\n",
      "4 5 5\n",
      "5 1 1\n",
      "5 1 2\n",
      "5 1 3\n",
      "5 1 4\n",
      "5 1 5\n",
      "5 2 1\n",
      "5 2 2\n",
      "5 2 3\n",
      "5 2 4\n",
      "5 2 5\n",
      "5 3 1\n",
      "5 3 2\n",
      "5 3 3\n",
      "5 3 4\n",
      "5 3 5\n",
      "5 4 1\n",
      "5 4 2\n",
      "5 4 3\n",
      "5 4 4\n",
      "5 4 5\n",
      "5 5 1\n",
      "5 5 2\n",
      "5 5 3\n",
      "5 5 4\n",
      "5 5 5\n"
     ]
    }
   ],
   "source": [
    "cubic(lists)"
   ]
  },
  {
   "cell_type": "markdown",
   "id": "bb308204",
   "metadata": {},
   "source": [
    "* As you can see, the form that carries the input size to 27 is called cubic notation."
   ]
  },
  {
   "cell_type": "markdown",
   "id": "8dc83cc4",
   "metadata": {},
   "source": [
    "#### Concullusion:\n",
    "- According to Big-O notation, we should avoid multidimensional loops in the algorithm as much as possible in algorithm designs that do not have a safe zone."
   ]
  },
  {
   "cell_type": "code",
   "execution_count": null,
   "id": "d61462a7",
   "metadata": {},
   "outputs": [],
   "source": []
  }
 ],
 "metadata": {
  "kernelspec": {
   "display_name": "Python 3",
   "language": "python",
   "name": "python3"
  },
  "language_info": {
   "codemirror_mode": {
    "name": "ipython",
    "version": 3
   },
   "file_extension": ".py",
   "mimetype": "text/x-python",
   "name": "python",
   "nbconvert_exporter": "python",
   "pygments_lexer": "ipython3",
   "version": "3.8.8"
  }
 },
 "nbformat": 4,
 "nbformat_minor": 5
}
