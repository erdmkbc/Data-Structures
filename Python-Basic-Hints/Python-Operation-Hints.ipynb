{
 "cells": [
  {
   "cell_type": "markdown",
   "id": "16d2b93a",
   "metadata": {},
   "source": [
    "# Some Hints For Python\n",
    "\n",
    "*The jupyter notebook try to explain some basic python memory management, string operation, define a function style.*\n",
    "\n",
    "#### Note THAT!\n",
    "Actually, Python has a lot of special string operation, memory management, define function style the programmers generally if they want give information for operations using stackoverflow but these hints that notebook explained some basic operations.  \n",
    "\n",
    "### Summary \n",
    "- Deep copy and shallow copy diffrences \n",
    "- List and tuple diffrences \n",
    "- Phyton memory metedologies\n",
    "- What is the *arg ? \n",
    "- What is the **kwargs\n",
    "- Join and split diffrences\n",
    "- What are the leading and trealling white space  "
   ]
  },
  {
   "cell_type": "markdown",
   "id": "89c95699",
   "metadata": {},
   "source": [
    "### Deep copy and shallow copy diffrences "
   ]
  },
  {
   "cell_type": "code",
   "execution_count": 65,
   "id": "dcee58a6",
   "metadata": {},
   "outputs": [],
   "source": [
    "# Deep copy \n",
    "def deep_copy(array):\n",
    "    \n",
    "    # library imported \n",
    "    import copy \n",
    "    \n",
    "    # array copied with deep copy \n",
    "    array_deep_copied = copy.deepcopy(array)\n",
    "    \n",
    "    # some changeing in real array \n",
    "    \n",
    "    array[0] = 'changed'\n",
    "    \n",
    "    # display arrays\n",
    "    print(array) \n",
    "    print(array_deep_copied)"
   ]
  },
  {
   "cell_type": "code",
   "execution_count": 69,
   "id": "78c36bdd",
   "metadata": {},
   "outputs": [
    {
     "name": "stdout",
     "output_type": "stream",
     "text": [
      "['changed', 2, 3, 4, 5]\n",
      "[1, 2, 3, 4, 5]\n"
     ]
    }
   ],
   "source": [
    "# Control the areas \n",
    "array_deep = [1,2,3,4,5]\n",
    "deep_copy(array_deep)"
   ]
  },
  {
   "cell_type": "code",
   "execution_count": 70,
   "id": "3cc88d06",
   "metadata": {},
   "outputs": [],
   "source": [
    "# Shallow Copy \n",
    "def shallow_copy(array):\n",
    "    \n",
    "    # library imported \n",
    "    import copy \n",
    "    \n",
    "    # array copied with deep copy \n",
    "    array_shallow_copied = copy.copy(array)\n",
    "    \n",
    "    # some changeing in real array \n",
    "    \n",
    "    array[0] = 'changed'\n",
    "    \n",
    "    # display arrays\n",
    "    print(array)\n",
    "    print(array_shallow_copied)"
   ]
  },
  {
   "cell_type": "code",
   "execution_count": 68,
   "id": "2abd9468",
   "metadata": {},
   "outputs": [
    {
     "name": "stdout",
     "output_type": "stream",
     "text": [
      "['changed', 2, 3, 4, 5]\n",
      "['changed', 2, 3, 4, 5]\n"
     ]
    }
   ],
   "source": [
    "# Control the areas \n",
    "array_shallow = [1,2,3,4,5]\n",
    "shallow_copy(array)"
   ]
  },
  {
   "cell_type": "markdown",
   "id": "4db361a6",
   "metadata": {},
   "source": [
    "- As we can see deepcopy will obtain a new address for arrays but shallow copy array will display same adresses."
   ]
  },
  {
   "cell_type": "markdown",
   "id": "c2c36d53",
   "metadata": {},
   "source": [
    "### Phyton memory metedologies\n",
    "\n",
    "- We can not acces heap space but we can acces with some CORE API'S"
   ]
  },
  {
   "cell_type": "markdown",
   "id": "efe30e72",
   "metadata": {},
   "source": [
    "### What is the *arg ? \n",
    "\n",
    "- Basicly, *arc is if we have no information for fucntion input we can use *arg inputs for example where given in bellow cell"
   ]
  },
  {
   "cell_type": "code",
   "execution_count": 52,
   "id": "ff673c02",
   "metadata": {},
   "outputs": [],
   "source": [
    "def unknown_parameters_arg(*arg):\n",
    "    for i in arg:\n",
    "        print(i)"
   ]
  },
  {
   "cell_type": "code",
   "execution_count": 53,
   "id": "5e0680f8",
   "metadata": {},
   "outputs": [
    {
     "name": "stdout",
     "output_type": "stream",
     "text": [
      "11\n",
      "12\n",
      "13\n"
     ]
    }
   ],
   "source": [
    "unknown_parameters_arg(11,12,13)"
   ]
  },
  {
   "cell_type": "markdown",
   "id": "be6b1b53",
   "metadata": {},
   "source": [
    "### What is the **kwargs\n",
    "\n",
    "- Basicly, ** kwargs has same options with *arg but ** kwargs is using for dicts for example where given in bellow cell"
   ]
  },
  {
   "cell_type": "code",
   "execution_count": 54,
   "id": "a1642ca9",
   "metadata": {},
   "outputs": [],
   "source": [
    "def unknown_parameters_kwargs(**kwargs):\n",
    "    for i in kwargs:\n",
    "        print(i, kwargs[i])"
   ]
  },
  {
   "cell_type": "code",
   "execution_count": 55,
   "id": "d2f2af1a",
   "metadata": {},
   "outputs": [
    {
     "name": "stdout",
     "output_type": "stream",
     "text": [
      "a 1\n",
      "b 2\n",
      "c 3\n"
     ]
    }
   ],
   "source": [
    "unknown_parameters_kwargs(a = 1,b = 2, c = 3)"
   ]
  },
  {
   "cell_type": "markdown",
   "id": "dbf611c7",
   "metadata": {},
   "source": [
    "### What is the 'pass' keyword \n",
    "\n",
    "Actually programmers has a lot functions that they are writeing metedologies in algorithms or projects, because algorithms must to be testable, so if we have metedologies we want to define a function but we want to write fuction body diffrent time we can use 'pass' keywords for example where given in bellow cell "
   ]
  },
  {
   "cell_type": "code",
   "execution_count": 56,
   "id": "32407a46",
   "metadata": {},
   "outputs": [],
   "source": [
    "def metedologies(input):\n",
    "    pass"
   ]
  },
  {
   "cell_type": "markdown",
   "id": "68a87a56",
   "metadata": {},
   "source": [
    "### Join and split diffrences"
   ]
  },
  {
   "cell_type": "code",
   "execution_count": 57,
   "id": "06bd6a05",
   "metadata": {},
   "outputs": [
    {
     "name": "stdout",
     "output_type": "stream",
     "text": [
      "Join operation:  e r d e m\n",
      "Split operatiın:  ['e', 'r', 'd', 'e', 'm']\n"
     ]
    }
   ],
   "source": [
    "string = 'erdem'\n",
    "string_join_operation = \" \".join(string)\n",
    "print('Join operation: ',string_join_operation)\n",
    "string_split_operation = string_join_operation.split(\" \")\n",
    "print('Split operatiın: ',string_split_operation)"
   ]
  },
  {
   "cell_type": "markdown",
   "id": "9aa37eae",
   "metadata": {},
   "source": [
    "### What are the leading and trealling white space  "
   ]
  },
  {
   "cell_type": "code",
   "execution_count": 58,
   "id": "baf3f2c6",
   "metadata": {},
   "outputs": [
    {
     "name": "stdout",
     "output_type": "stream",
     "text": [
      "erdem   \n",
      "   erdem\n",
      "erdem\n"
     ]
    }
   ],
   "source": [
    "text_distortion = '   erdem   '\n",
    "leadingt_ws = text_distortion.lstrip()\n",
    "trealling_ws = text_distortion.rstrip()\n",
    "both_ws = text_distortion.strip()\n",
    "\n",
    "print(leadingt_ws)\n",
    "print(trealling_ws)\n",
    "print(both_ws)"
   ]
  }
 ],
 "metadata": {
  "kernelspec": {
   "display_name": "Python 3",
   "language": "python",
   "name": "python3"
  },
  "language_info": {
   "codemirror_mode": {
    "name": "ipython",
    "version": 3
   },
   "file_extension": ".py",
   "mimetype": "text/x-python",
   "name": "python",
   "nbconvert_exporter": "python",
   "pygments_lexer": "ipython3",
   "version": "3.8.8"
  }
 },
 "nbformat": 4,
 "nbformat_minor": 5
}
