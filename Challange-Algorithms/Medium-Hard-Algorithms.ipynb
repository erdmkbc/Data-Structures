{
 "cells": [
  {
   "cell_type": "markdown",
   "id": "357f04cd",
   "metadata": {},
   "source": [
    "### So let's start to challange time!\n",
    "\n",
    "- We will try to solve some algorithms that algorithms asked in some interview processes in companies when they hiring a programmers.\n",
    "\n",
    "### Algorithms\n",
    "\n",
    "- Mixxing the words \n",
    "- Frequency finding\n",
    "- Missing digits \n",
    "- Array Pairs "
   ]
  },
  {
   "cell_type": "markdown",
   "id": "4483e440",
   "metadata": {},
   "source": [
    "### Mixxing the words\n",
    "\n",
    "*The algorithms has a to inputs and the function that we will write control the words lets for an example outputs*\n",
    "\n",
    "inputs 'test' = 'etst'\n",
    "output = True\n",
    "\n",
    "inputs = 'test' = 'zings'\n",
    "output = False "
   ]
  },
  {
   "cell_type": "code",
   "execution_count": 74,
   "id": "448dcf3e",
   "metadata": {},
   "outputs": [],
   "source": [
    "class control_mixing_words():\n",
    "    \n",
    "    \"\"\"\n",
    "    Split to words \n",
    "    Comprasion the arrays\n",
    "    \"\"\"\n",
    "    \n",
    "    def split_words(str1, str2):\n",
    "        \n",
    "        \"\"\"\n",
    "        Splitting the words\n",
    "        \"\"\"\n",
    "        \n",
    "        str_spaced = \" \".join(str1)\n",
    "        str_splitted = str_spaced.split(\" \")\n",
    "        \n",
    "        str_spaced_2 = \" \".join(str2)\n",
    "        str_splitted_2 = str_spaced_2.split(\" \")\n",
    "        \n",
    "        return str_splitted, str_splitted_2\n",
    "    \n",
    "    def comparasion_letter():\n",
    "        \n",
    "        \"\"\"\n",
    "        Call the splitting function\n",
    "        Comprassion arrays\n",
    "        \"\"\"\n",
    "        str_splitted, str_splitted_2 = control_mixing_words.split_words(str1,str2)\n",
    "        \n",
    "        from collections import Counter\n",
    "        #return sorted(str_splitted) == sorted(str_splitted_2) # O(nlogn)\n",
    "        return Counter(str_splitted) == Counter(str_splitted_2) # O(n) the best notation \n",
    "        #return set(str_splitted) == set(str_splitted_2)# ordering and remove the duplicates "
   ]
  },
  {
   "cell_type": "code",
   "execution_count": 72,
   "id": "19d3803a",
   "metadata": {},
   "outputs": [
    {
     "data": {
      "text/plain": [
       "True"
      ]
     },
     "execution_count": 72,
     "metadata": {},
     "output_type": "execute_result"
    }
   ],
   "source": [
    "str1 = 'te'\n",
    "str2 = 'et'\n",
    "str_splitted_1, str_splitted_2 = control_mixing_words.split_words(str1,str2)\n",
    "control_mixing_words.comparasion_letter()"
   ]
  },
  {
   "cell_type": "markdown",
   "id": "5f1a2d1e",
   "metadata": {},
   "source": [
    "### Frequency finding \n",
    "\n",
    "- input: 'kkksssbb'\n",
    "- output: '{k:3,s:3,b:2'}\n"
   ]
  },
  {
   "cell_type": "code",
   "execution_count": 10,
   "id": "ef1e1f7a",
   "metadata": {},
   "outputs": [],
   "source": [
    "def frequency_finding(str1):\n",
    "    \n",
    "    # find a letters in word \n",
    "    \n",
    "    list1 = []\n",
    "    for letter in str1:\n",
    "        list1.append(letter)\n",
    "        \n",
    "    # obtain a dict for memory \n",
    "    \n",
    "    counter = {}\n",
    "    \n",
    "    # counting letters \n",
    "    \n",
    "    for letter in str1:\n",
    "        if letter in counter:\n",
    "            counter[letter] +=1\n",
    "        else:\n",
    "            counter[letter] = 1\n",
    "    # return dict\n",
    "    \n",
    "    return counter"
   ]
  },
  {
   "cell_type": "code",
   "execution_count": 11,
   "id": "de875cef",
   "metadata": {},
   "outputs": [
    {
     "data": {
      "text/plain": [
       "{'k': 3, 'b': 3, 's': 2}"
      ]
     },
     "execution_count": 11,
     "metadata": {},
     "output_type": "execute_result"
    }
   ],
   "source": [
    "str1 = 'kkkbbbss'\n",
    "frequency_finding(str1)"
   ]
  },
  {
   "cell_type": "markdown",
   "id": "4c08de2d",
   "metadata": {},
   "source": [
    "- As we can see, our algorithm returns O(n) notation that algorithm is efficient "
   ]
  }
 ],
 "metadata": {
  "kernelspec": {
   "display_name": "Python 3",
   "language": "python",
   "name": "python3"
  },
  "language_info": {
   "codemirror_mode": {
    "name": "ipython",
    "version": 3
   },
   "file_extension": ".py",
   "mimetype": "text/x-python",
   "name": "python",
   "nbconvert_exporter": "python",
   "pygments_lexer": "ipython3",
   "version": "3.8.8"
  }
 },
 "nbformat": 4,
 "nbformat_minor": 5
}
