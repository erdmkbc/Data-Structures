{
 "cells": [
  {
   "cell_type": "markdown",
   "id": "357f04cd",
   "metadata": {},
   "source": [
    "### So let's start to challange time!\n",
    "\n",
    "- We will try to solve some algorithms that algorithms asked in some interview processes in companies when they hiring a programmers.\n",
    "\n",
    "### Algorithms\n",
    "\n",
    "- Frequency finding\n",
    "- Missing digits \n",
    "- Array Pairs "
   ]
  },
  {
   "cell_type": "markdown",
   "id": "4483e440",
   "metadata": {},
   "source": [
    "### Mixxing the words\n",
    "\n",
    "*The algorithms has a to inputs and the function that we will write control the words lets for an example outputs*\n",
    "\n",
    "inputs 'test' = 'etst'\n",
    "output = True\n",
    "\n",
    "inputs = 'test' = 'zings'\n",
    "output = False "
   ]
  },
  {
   "cell_type": "code",
   "execution_count": 74,
   "id": "448dcf3e",
   "metadata": {},
   "outputs": [],
   "source": [
    "class control_mixing_words():\n",
    "    \n",
    "    \"\"\"\n",
    "    Split to words \n",
    "    Comprasion the arrays\n",
    "    \"\"\"\n",
    "    \n",
    "    def split_words(str1, str2):\n",
    "        \n",
    "        \"\"\"\n",
    "        Splitting the words\n",
    "        \"\"\"\n",
    "        \n",
    "        str_spaced = \" \".join(str1)\n",
    "        str_splitted = str_spaced.split(\" \")\n",
    "        \n",
    "        str_spaced_2 = \" \".join(str2)\n",
    "        str_splitted_2 = str_spaced_2.split(\" \")\n",
    "        \n",
    "        return str_splitted, str_splitted_2\n",
    "    \n",
    "    def comparasion_letter():\n",
    "        \n",
    "        \"\"\"\n",
    "        Call the splitting function\n",
    "        Comprassion arrays\n",
    "        \"\"\"\n",
    "        str_splitted, str_splitted_2 = control_mixing_words.split_words(str1,str2)\n",
    "        \n",
    "        from collections import Counter\n",
    "        #return sorted(str_splitted) == sorted(str_splitted_2) # O(nlogn)\n",
    "        return Counter(str_splitted) == Counter(str_splitted_2) # O(n) the best notation \n",
    "        #return set(str_splitted) == set(str_splitted_2)# ordering and remove the duplicates "
   ]
  },
  {
   "cell_type": "code",
   "execution_count": 72,
   "id": "19d3803a",
   "metadata": {},
   "outputs": [
    {
     "data": {
      "text/plain": [
       "True"
      ]
     },
     "execution_count": 72,
     "metadata": {},
     "output_type": "execute_result"
    }
   ],
   "source": [
    "str1 = 'te'\n",
    "str2 = 'et'\n",
    "str_splitted_1, str_splitted_2 = control_mixing_words.split_words(str1,str2)\n",
    "control_mixing_words.comparasion_letter()"
   ]
  },
  {
   "cell_type": "markdown",
   "id": "5f1a2d1e",
   "metadata": {},
   "source": [
    "### Frequency finding \n",
    "\n",
    "- input: 'kkksssbb'\n",
    "- output: '{k:3,s:3,b:2'}\n"
   ]
  },
  {
   "cell_type": "code",
   "execution_count": 10,
   "id": "ef1e1f7a",
   "metadata": {},
   "outputs": [],
   "source": [
    "def frequency_finding(str1):\n",
    "    \n",
    "    # find a letters in word \n",
    "    \n",
    "    list1 = []\n",
    "    for letter in str1:\n",
    "        list1.append(letter)\n",
    "        \n",
    "    # obtain a dict for memory \n",
    "    \n",
    "    counter = {}\n",
    "    \n",
    "    # counting letters \n",
    "    \n",
    "    for letter in str1:\n",
    "        if letter in counter:\n",
    "            counter[letter] +=1\n",
    "        else:\n",
    "            counter[letter] = 1\n",
    "    # return dict\n",
    "    \n",
    "    return counter"
   ]
  },
  {
   "cell_type": "code",
   "execution_count": 11,
   "id": "de875cef",
   "metadata": {},
   "outputs": [
    {
     "data": {
      "text/plain": [
       "{'k': 3, 'b': 3, 's': 2}"
      ]
     },
     "execution_count": 11,
     "metadata": {},
     "output_type": "execute_result"
    }
   ],
   "source": [
    "str1 = 'kkkbbbss'\n",
    "frequency_finding(str1)"
   ]
  },
  {
   "cell_type": "markdown",
   "id": "4c08de2d",
   "metadata": {},
   "source": [
    "- As we can see, our algorithm returns O(n) notation that algorithm is efficient "
   ]
  },
  {
   "cell_type": "markdown",
   "id": "da05818f",
   "metadata": {},
   "source": [
    "### Missing Digits\n",
    "\n",
    "- input: \"10 - x = 4\"\n",
    "- output: 6\n",
    "- input: \"1x * 11 = 121\" \n",
    "- output: 1"
   ]
  },
  {
   "cell_type": "code",
   "execution_count": 6,
   "id": "b262391d",
   "metadata": {},
   "outputs": [],
   "source": [
    "def missing_digits(string):\n",
    "\n",
    "    # Plains\n",
    "    # change the x with [0,1,2,..9]\n",
    "    # find the x index\n",
    "    # control the every notations math problem with eval method \n",
    "    # return the output \n",
    "\n",
    "    for i in range(10):\n",
    "        math_operations = string.replace('x', str(i))\n",
    "        equals_index = string.index('=')\n",
    "        if eval(math_operations[:equals_index]) == eval(math_operations[equals_index + 1:]):\n",
    "            return i"
   ]
  },
  {
   "cell_type": "code",
   "execution_count": 7,
   "id": "d9ec3aaa",
   "metadata": {},
   "outputs": [
    {
     "name": "stdout",
     "output_type": "stream",
     "text": [
      "6\n",
      "1\n"
     ]
    }
   ],
   "source": [
    "print(missing_digits(\"10-x=4\"))\n",
    "print(missing_digits(\"1x * 11 = 121\"))"
   ]
  },
  {
   "cell_type": "markdown",
   "id": "2e0b1c16",
   "metadata": {},
   "source": [
    "### Array notations\n",
    "\n",
    "- input: [2,3,4,5]\n",
    "- output: 4523"
   ]
  },
  {
   "cell_type": "code",
   "execution_count": 105,
   "id": "ace90090",
   "metadata": {},
   "outputs": [],
   "source": [
    "def array_notations(list_array):\n",
    "\n",
    "    # Plain \n",
    "    # detect the first element value and temp the variable \n",
    "    # print elements until the array's last elements \n",
    "    # print elemens first index to variable that we declared \n",
    "\n",
    "    notation_value = list_array[0]\n",
    "    list_notation_array = []\n",
    "\n",
    "    # create list for array notations \n",
    "    for i in range(notation_value,len(list_array)):\n",
    "        list_notation_array.append(list_array[i])\n",
    "    \n",
    "    for i in range(0,notation_value):\n",
    "        list_notation_array.append(list_array[i])\n",
    "    \n",
    "    # formatting list to string \n",
    "    strings = [str(integer) for integer in list_notation_array]\n",
    "    a_string = \"\".join(strings)\n",
    "    # formattin to integer \n",
    "    int_output = int(a_string)\n",
    "\n",
    "    return int_output"
   ]
  },
  {
   "cell_type": "code",
   "execution_count": 106,
   "id": "c01e97a8",
   "metadata": {},
   "outputs": [
    {
     "data": {
      "text/plain": [
       "4523"
      ]
     },
     "execution_count": 106,
     "metadata": {},
     "output_type": "execute_result"
    }
   ],
   "source": [
    "list_array = [2,3,4,5]\n",
    "array_notations(list_array)"
   ]
  },
  {
   "cell_type": "markdown",
   "id": "884b4e33",
   "metadata": {},
   "source": [
    "### Array Pairs \n",
    "- input: [5,6,6,5,3,3]\n",
    "- output: \"3,3\"\n",
    "\n",
    "- input: [5,6,6,5,3,4,4,3]\n",
    "- output: \"OK\"ü"
   ]
  },
  {
   "cell_type": "code",
   "execution_count": 183,
   "id": "cf3dd5e0",
   "metadata": {},
   "outputs": [],
   "source": [
    "def array_pairs(list_array):\n",
    "\n",
    "    # Plain \n",
    "    # Check divisibility of Array memory by 4 \n",
    "    # 0 and 3rd index 1 and second index will be checked(i == i + 3, j == j + 1)\n",
    "    # if there is no pair return what should be even\n",
    "    \n",
    "    flag = 0\n",
    "    list_not_pairs = []\n",
    "    if len(list_array) % 4 == 0:\n",
    "        \n",
    "        i = 0\n",
    "        j = 1\n",
    "        while i != len(list_array):\n",
    "            \n",
    "            if list_array[i] == list_array[i+3]:\n",
    "                pass\n",
    "            else:\n",
    "                flag = flag + 1\n",
    "                list_not_pairs.append(list_array[i-1])\n",
    "                list_not_pairs.append(list_array[i])\n",
    "\n",
    "            if list_array[j] == list_array[j+1]:\n",
    "                pass\n",
    "            else:\n",
    "                flag = flag + 1\n",
    "                list_not_pairs.append(list_array[j-1])\n",
    "                list_not_pairs.append(list_array[j])\n",
    "            \n",
    "            i = i + 4\n",
    "            j = j + 4\n",
    "    else:\n",
    "        return print('FALSE')\n",
    "    \n",
    "    if flag == 0:\n",
    "        return print('TRUE'), \n",
    "    else:\n",
    "        return list_not_pairs\n",
    "\n",
    "    "
   ]
  },
  {
   "cell_type": "code",
   "execution_count": 186,
   "id": "c48c9d3b",
   "metadata": {},
   "outputs": [
    {
     "data": {
      "text/plain": [
       "[5, 3]"
      ]
     },
     "execution_count": 186,
     "metadata": {},
     "output_type": "execute_result"
    }
   ],
   "source": [
    "list_array = [5,6,6,5,3,3,3,5]\n",
    "array_pairs(list_array)"
   ]
  },
  {
   "cell_type": "markdown",
   "id": "917d0938",
   "metadata": {},
   "source": []
  },
  {
   "cell_type": "markdown",
   "id": "e9e0b47f",
   "metadata": {},
   "source": []
  }
 ],
 "metadata": {
  "kernelspec": {
   "display_name": "Python 3",
   "language": "python",
   "name": "python3"
  },
  "language_info": {
   "codemirror_mode": {
    "name": "ipython",
    "version": 3
   },
   "file_extension": ".py",
   "mimetype": "text/x-python",
   "name": "python",
   "nbconvert_exporter": "python",
   "pygments_lexer": "ipython3",
   "version": "3.8.8"
  }
 },
 "nbformat": 4,
 "nbformat_minor": 5
}
